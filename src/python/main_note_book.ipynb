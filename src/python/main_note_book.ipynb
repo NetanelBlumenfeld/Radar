{
 "cells": [
  {
   "cell_type": "code",
   "execution_count": 2,
   "metadata": {},
   "outputs": [],
   "source": [
    "import torch as torch\n",
    "from network.metric.accuracy import acc_srcnn_tiny_radar\n",
    "from network.models.classifiers.tiny_radar import TinyRadarNN\n",
    "from network.models.sr_classifier.SRCnnTinyRadar import CombinedSRCNNClassifier\n",
    "from network.models.super_resolution.drln import Drln\n",
    "from network.models.super_resolution.srcnn import SRCnn\n",
    "from network.runner import Runner\n",
    "from utils.utils_paths import get_time_in_string\n",
    "from utils.utils_images import Normalization\n",
    "import os\n",
    "import cv2\n",
    "import numpy as np\n",
    "from typing import Optional\n",
    "\n",
    "import matplotlib.pyplot as plt\n",
    "from scipy.fftpack import fft, fftshift, ifftshift, ifft\n",
    "from functools import partial\n",
    "from multiprocessing import Pool\n",
    "from data_loader.tiny_loader import *\n",
    "from data_loader.tiny_radar_loader import *\n",
    "# from data_loader.tiny_radar_loader import tiny_data_high_res\n",
    "\n",
    "\n"
   ]
  },
  {
   "cell_type": "code",
   "execution_count": 3,
   "metadata": {},
   "outputs": [],
   "source": [
    "def process_data(x: np.ndarray) -> np.ndarray:\n",
    "    # TODO: adding this as preprocess pipeline\n",
    "    x = np.abs(fftshift(fft(x, axis=0), axes=0))\n",
    "    x = normalize_img(x, Normalization.Range_0_1)\n",
    "    x = np.expand_dims(x, axis=0)\n",
    "    return x\n",
    "numberOfInstanceWindows = 3\n",
    "lengthOfSubWindow = 32\n",
    "\n",
    "gestures = [\n",
    "        \"PinchIndex\",\n",
    "        \"PinchPinky\",\n",
    "        # \"FingerSlider\",\n",
    "        \"FingerRub\",\n",
    "        # \"SlowSwipeRL\",\n",
    "        # \"FastSwipeRL\",\n",
    "        # \"Push\",\n",
    "        # \"Pull\",\n",
    "        # \"PalmTilt\",\n",
    "        # \"Circle\",\n",
    "        # \"PalmHold\",\n",
    "        # \"NoHand\",\n",
    "    ]\n",
    "data_dir = \"/Users/netanelblumenfeld/Desktop/data/11G/data_feat/\"\n",
    "data_dir1 = \"/Users/netanelblumenfeld/Desktop/data/11G/data_npy/\"\n",
    "output_dir = \"/Users/netanelblumenfeld/Desktop/bgu/Msc/project/outputs\"\n",
    "\n",
    "people = 2"
   ]
  },
  {
   "cell_type": "code",
   "execution_count": 5,
   "metadata": {},
   "outputs": [
    {
     "name": "stdout",
     "output_type": "stream",
     "text": [
      "People: 2, Gestures: ['PinchIndex', 'PinchPinky', 'FingerRub'], Batch Size: 8\n",
      "down sampling data with 8 cpu cores\n",
      "shapess - (105, 5, 2, 8, 123),(105, 5, 2, 32, 492), (105, 5, 3) \n",
      "shapess - (105, 5, 2, 8, 123),(105, 5, 2, 32, 492), (105, 5, 3) \n",
      "shapess - (105, 5, 2, 8, 123),(105, 5, 2, 32, 492), (105, 5, 3) \n",
      "shapes low_res - (315, 5, 2, 32, 492), high_res - (315, 5, 2, 8, 123), labels - (315, 5, 3)\n"
     ]
    }
   ],
   "source": [
    "# #sr 3080\n",
    "# data_dir = \"/Users/netanelblumenfeld/Desktop/data/11G/\"\n",
    "# data_cfg = DataCfg(task = \"sr\", gestures = gestures, people = people, data_type=\"npy\", transform_pipeline= process_data)\n",
    "# train,val,name = get_tiny_dataloader(data_dir=data_dir, data_cfg=data_cfg, pc='3080', test_size=0.1, batch_size=8)\n",
    "\n",
    "# #sr 4090\n",
    "# from data_loader.tiny_pipeline import sr_4090_pipeline\n",
    "\n",
    "\n",
    "# data_dir = \"/Users/netanelblumenfeld/Desktop/data/11G/\"\n",
    "# ds_func = partial(\n",
    "#     down_sample_data_sr, row_factor=4, col_factor=4, original_dim=False\n",
    "# )\n",
    "# norm_func = partial(normalize_img, pix_norm=Normalization.Range_0_1)\n",
    "# load_data_func = partial(\n",
    "#     sr_4090_pipeline, norm_func=norm_func, down_sample_func=ds_func\n",
    "# )\n",
    "# data_cfg = DataCfg(task = \"sr\", gestures = gestures, people = people, data_type=\"npy\", transform_pipeline= load_data_func)\n",
    "# train,val,name = get_tiny_dataloader(data_dir=data_dir, data_cfg=data_cfg, pc='4090', test_size=0.1, batch_size=8)\n",
    "\n",
    "# # classifier\n",
    "# from data_loader.tiny_pipeline import classifier_pipeline\n",
    "\n",
    "# norm_func = partial(normalize_img, pix_norm=Normalization.Range_0_1)\n",
    "# load_data_func = partial(\n",
    "#     classifier_pipeline, norm_func=norm_func\n",
    "# )\n",
    "# data_dir = \"/Users/netanelblumenfeld/Desktop/data/11G/\"\n",
    "# data_cfg = DataCfg(task = \"classifier\", gestures = gestures, people = people, data_type=\"npy\", transform_pipeline= load_data_func)\n",
    "# train,val,name = get_tiny_dataloader(data_dir=data_dir, data_cfg=data_cfg, pc='3080', test_size=0.1, batch_size=8)\n",
    "\n",
    "# # sr_classifier 3080\n",
    "# from data_loader.tiny_pipeline import sr_classifier_3080_pipeline\n",
    "# ds_func = partial(\n",
    "#     down_sample_data_sr, row_factor=4, col_factor=4, original_dim=False\n",
    "# )\n",
    "# norm_func = partial(normalize_img, pix_norm=Normalization.Range_0_1)\n",
    "# load_data_func = partial(\n",
    "#     sr_classifier_3080_pipeline, norm_func=norm_func, down_sample_func=ds_func\n",
    "# )\n",
    "\n",
    "# data_dir = \"/Users/netanelblumenfeld/Desktop/data/11G/\"\n",
    "# data_cfg = DataCfg(task = \"sr_classifier\", gestures = gestures, people = people, data_type=\"npy\", transform_pipeline= load_data_func)\n",
    "# train,val = get_tiny_dataloader(data_dir=data_dir, data_cfg=data_cfg, pc='3080', test_size=0.1, batch_size=8)\n",
    "\n",
    "# #sr_classifier_4090\n",
    "from data_loader.tiny_pipeline import sr_classifier_4090_pipeline\n",
    "\n",
    "\n",
    "ds_func = partial(\n",
    "    down_sample_data_sr, row_factor=4, col_factor=4, original_dim=False\n",
    ")\n",
    "norm_func = partial(normalize_img, pix_norm=Normalization.Range_0_1)\n",
    "load_data_func = partial(\n",
    "    sr_classifier_4090_pipeline, norm_func=norm_func, down_sample_func=ds_func, gestures=gestures\n",
    ")\n",
    "\n",
    "data_dir = \"/Users/netanelblumenfeld/Desktop/data/11G/\"\n",
    "data_cfg = DataCfg(task = \"sr_classifier\", gestures = gestures, people = people, data_type=\"npy\", transform_pipeline= load_data_func)\n",
    "train,val = get_tiny_dataloader(data_dir=data_dir, data_cfg=data_cfg, pc='4090', test_size=0.1, batch_size=8)\n",
    "\n"
   ]
  },
  {
   "cell_type": "code",
   "execution_count": 4,
   "metadata": {},
   "outputs": [
    {
     "data": {
      "text/plain": [
       "(0.4599326422873964,\n",
       " 204,\n",
       " Adam (\n",
       " Parameter Group 0\n",
       "     amsgrad: True\n",
       "     betas: (0.9, 0.999)\n",
       "     capturable: False\n",
       "     differentiable: False\n",
       "     eps: 1e-08\n",
       "     foreach: None\n",
       "     fused: None\n",
       "     initial_lr: 0.0015\n",
       "     lr: 0.0005395102885730106\n",
       "     maximize: False\n",
       "     weight_decay: 0\n",
       " ))"
      ]
     },
     "execution_count": 4,
     "metadata": {},
     "output_type": "execute_result"
    }
   ],
   "source": [
    "\n",
    "model = Drln(2)\n",
    "optimizer = torch.optim.Adam\n",
    "path = \"/Users/netanelblumenfeld/Desktop/bgu/Msc/project/outputs/models/sr/Drln_2/11G_normalization.range_0_1/lr_0.0015_batch_size_128_loss_L1/2023-12-31_12:10:32min_loss_model.pt\"\n",
    "a,b,c,d = model.load_model(path,optimizer,optimizer_args={'lr':0.002},device = torch.device('cpu'))\n",
    "d,c,b\n",
    "\n",
    "# data_dir = \"/Users/netanelblumenfeld/Desktop/data/11G/\"\n",
    "\n",
    "# data = dataset_tiny_sr_off_disk(data_dir, people, gestures,8,Normalization.Range_0_1)\n",
    "# for x,y in data[0]:\n",
    "#     print(x.shape)\n",
    "#     print(y.shape)\n",
    "#     break\n"
   ]
  },
  {
   "cell_type": "code",
   "execution_count": 5,
   "metadata": {},
   "outputs": [
    {
     "name": "stdout",
     "output_type": "stream",
     "text": [
      "torch.Size([8, 5, 2, 32, 492])\n",
      "torch.Size([8, 5, 2, 8, 123])\n",
      "torch.Size([8, 5, 3])\n"
     ]
    }
   ],
   "source": [
    "for x,y in train:\n",
    "    print(x.shape)\n",
    "    print(y[0].shape)\n",
    "    print(y[1].shape)\n",
    "    break"
   ]
  },
  {
   "cell_type": "code",
   "execution_count": 6,
   "metadata": {},
   "outputs": [
    {
     "data": {
      "text/plain": [
       "torch.Size([1, 1, 32, 492])"
      ]
     },
     "execution_count": 6,
     "metadata": {},
     "output_type": "execute_result"
    }
   ],
   "source": [
    "low_res = torch.Tensor(np.expand_dims(np.expand_dims(x[0,0,0],axis=0),axis=0))\n",
    "low_res.shape"
   ]
  },
  {
   "cell_type": "code",
   "execution_count": null,
   "metadata": {},
   "outputs": [],
   "source": [
    "res = a(x).detach().numpy()\n",
    "# evaluation(x[0],y[0],res[0])"
   ]
  },
  {
   "cell_type": "code",
   "execution_count": null,
   "metadata": {},
   "outputs": [],
   "source": [
    "x.shape"
   ]
  },
  {
   "cell_type": "code",
   "execution_count": 7,
   "metadata": {},
   "outputs": [
    {
     "data": {
      "text/plain": [
       "Text(0.5, 1.0, 'low res')"
      ]
     },
     "execution_count": 7,
     "metadata": {},
     "output_type": "execute_result"
    },
    {
     "data": {
      "image/png": "[encoded data removed]",
      "text/plain": [
       "<Figure size 3000x3000 with 1 Axes>"
      ]
     },
     "metadata": {},
     "output_type": "display_data"
    }
   ],
   "source": [
    "k=2\n",
    "\n",
    "plt.figure(figsize=(30,30))\n",
    "plt.imshow(x[0,0,0])\n",
    "plt.title(\"low res\")"
   ]
  },
  {
   "cell_type": "code",
   "execution_count": 8,
   "metadata": {},
   "outputs": [
    {
     "data": {
      "text/plain": [
       "Text(0.5, 1.0, 'high res true')"
      ]
     },
     "execution_count": 8,
     "metadata": {},
     "output_type": "execute_result"
    },
    {
     "data": {
      "image/png": "[encoded data removed]",
      "text/plain": [
       "<Figure size 3000x3000 with 1 Axes>"
      ]
     },
     "metadata": {},
     "output_type": "display_data"
    }
   ],
   "source": [
    "plt.figure(figsize=(30,30))\n",
    "plt.imshow(y[0][0,0,0])\n",
    "plt.title(\"high res true\")\n"
   ]
  },
  {
   "cell_type": "code",
   "execution_count": 9,
   "metadata": {},
   "outputs": [
    {
     "ename": "NameError",
     "evalue": "name 'res' is not defined",
     "output_type": "error",
     "traceback": [
      "\u001b[0;31m---------------------------------------------------------------------------\u001b[0m",
      "\u001b[0;31mNameError\u001b[0m                                 Traceback (most recent call last)",
      "Cell \u001b[0;32mIn[9], line 2\u001b[0m\n\u001b[1;32m      1\u001b[0m plt\u001b[38;5;241m.\u001b[39mfigure(figsize\u001b[38;5;241m=\u001b[39m(\u001b[38;5;241m30\u001b[39m,\u001b[38;5;241m30\u001b[39m))\n\u001b[0;32m----> 2\u001b[0m plt\u001b[38;5;241m.\u001b[39mimshow(\u001b[43mres\u001b[49m[\u001b[38;5;241m0\u001b[39m,\u001b[38;5;241m0\u001b[39m])\n\u001b[1;32m      3\u001b[0m plt\u001b[38;5;241m.\u001b[39mtitle(\u001b[38;5;124m\"\u001b[39m\u001b[38;5;124mhigh res pred\u001b[39m\u001b[38;5;124m\"\u001b[39m)\n\u001b[1;32m      4\u001b[0m loss \u001b[38;5;241m=\u001b[39m torch\u001b[38;5;241m.\u001b[39mnn\u001b[38;5;241m.\u001b[39mL1Loss()\n",
      "\u001b[0;31mNameError\u001b[0m: name 'res' is not defined"
     ]
    },
    {
     "data": {
      "text/plain": [
       "<Figure size 3000x3000 with 0 Axes>"
      ]
     },
     "metadata": {},
     "output_type": "display_data"
    }
   ],
   "source": [
    "plt.figure(figsize=(30,30))\n",
    "plt.imshow(res[0,0])\n",
    "plt.title(\"high res pred\")\n",
    "loss = torch.nn.L1Loss()\n",
    "\n",
    "# print(loss(y[0][k,0],res[k,0]).item())\n",
    "\n"
   ]
  },
  {
   "cell_type": "code",
   "execution_count": null,
   "metadata": {},
   "outputs": [],
   "source": [
    "low_up = cv2.resize(x[k,0].detach().numpy(), (492,32), interpolation=cv2.INTER_CUBIC)\n",
    "plt.figure(figsize=(30,30))\n",
    "plt.imshow(low_up)\n"
   ]
  },
  {
   "cell_type": "code",
   "execution_count": null,
   "metadata": {},
   "outputs": [],
   "source": [
    "zero = torch.zeros(1,1,32//4,492//4)\n",
    "res_zero = a(zero)\n",
    "plt.figure(figsize=(30,30))\n",
    "plt.imshow(res_zero[0,0].detach().numpy())"
   ]
  },
  {
   "cell_type": "code",
   "execution_count": null,
   "metadata": {},
   "outputs": [],
   "source": [
    "res_zero.shape, zero.shape"
   ]
  },
  {
   "cell_type": "code",
   "execution_count": null,
   "metadata": {},
   "outputs": [],
   "source": [
    "loss= torch.nn.L1Loss()\n",
    "loss( torch.zeros(1,1,32//1,492//1),res_zero[0,0])"
   ]
  },
  {
   "cell_type": "code",
   "execution_count": null,
   "metadata": {},
   "outputs": [],
   "source": [
    "numberOfInstanceWindows = 3\n",
    "lengthOfSubWindow = 32\n",
    "\n",
    "gestures = [\n",
    "        \"PinchIndex\",\n",
    "        \"PinchPinky\",\n",
    "        # \"FingerSlider\",\n",
    "        # \"FingerRub\",\n",
    "        # \"SlowSwipeRL\",\n",
    "        # \"FastSwipeRL\",\n",
    "        # \"Push\",\n",
    "        # \"Pull\",\n",
    "        # \"PalmTilt\",\n",
    "        # \"Circle\",\n",
    "        # \"PalmHold\",\n",
    "        # \"NoHand\",\n",
    "    ]\n",
    "people = 2\n",
    "\n",
    "data_dir = \"/Users/netanelblumenfeld/Desktop/data/11G/data_feat/\"\n",
    "data_dir1 = \"/Users/netanelblumenfeld/Desktop/data/11G/data_npy/\"\n",
    "output_dir = \"/Users/netanelblumenfeld/Desktop/bgu/Msc/project/outputs\"\n",
    "\n",
    "\n",
    "\n",
    "# data_dir = \"/Users/netanelblumenfeld/Desktop/data/11G/\""
   ]
  },
  {
   "cell_type": "code",
   "execution_count": null,
   "metadata": {},
   "outputs": [],
   "source": [
    "diameter_mm = [15,15,24,13]\n",
    "depth_mm = [110,220,180,180]\n",
    "price = [44,61,71,55]"
   ]
  }
 ],
 "metadata": {
  "kernelspec": {
   "display_name": "radar",
   "language": "python",
   "name": "python3"
  },
  "language_info": {
   "codemirror_mode": {
    "name": "ipython",
    "version": 3
   },
   "file_extension": ".py",
   "mimetype": "text/x-python",
   "name": "python",
   "nbconvert_exporter": "python",
   "pygments_lexer": "ipython3",
   "version": "3.9.18"
  }
 },
 "nbformat": 4,
 "nbformat_minor": 2
}
