{
 "cells": [
  {
   "cell_type": "code",
   "execution_count": 1,
   "metadata": {},
   "outputs": [],
   "source": [
    "import torch as torch\n",
    "from network.metric.accuracy import acc_srcnn_tiny_radar\n",
    "from network.models.classifiers.tiny_radar import TinyRadarNN\n",
    "from network.models.sr_classifier.SRCnnTinyRadar import CombinedSRCNNClassifier\n",
    "from network.models.super_resolution.drln import Drln\n",
    "from network.models.super_resolution.srcnn import SRCnn\n",
    "from network.runner import Runner\n",
    "from utils.utils_paths import get_time_in_string\n",
    "from utils.utils_images import Normalization\n",
    "import os\n",
    "import cv2\n",
    "import numpy as np\n",
    "from typing import Optional\n",
    "import matplotlib.pyplot as plt\n",
    "from scipy.fftpack import fft, fftshift, ifftshift, ifft\n",
    "from functools import partial\n",
    "from multiprocessing import Pool\n",
    "from data_loader.tiny_loader import load_tiny_data_sr\n",
    "from data_loader.tiny_loader import *\n",
    "from data_loader.tiny_radar_loader import tiny_radar_for_classifier, tiny_tt\n",
    "\n",
    "\n"
   ]
  },
  {
   "cell_type": "code",
   "execution_count": 33,
   "metadata": {},
   "outputs": [],
   "source": [
    "from torch.utils.data import DataLoader, Dataset\n",
    "\n",
    "class DopplerDataset(Dataset):\n",
    "    def __init__(self, imgs):\n",
    "        self.imgs = imgs\n",
    "    \n",
    "    def process_data(self, x:np.ndarray) -> np.ndarray:\n",
    "        x = np.abs(fftshift(fft(x, axis=0), axes=0))\n",
    "        x = normalize_img(x,Normalization.Range_0_1)\n",
    "        x = np.expand_dims(x, axis=0)\n",
    "        return x\n",
    "\n",
    "    def __len__(self):\n",
    "        return self.imgs.shape[0]\n",
    "\n",
    "    def __getitem__(self, idx):\n",
    "        if torch.is_tensor(idx):\n",
    "            idx = idx.tolist()\n",
    "        high_res_time = self.imgs[idx]\n",
    "        high_res = np.abs(fftshift(fft(high_res_time, axis=0), axes=0))\n",
    "        high_res = normalize_img(high_res,Normalization.Range_0_1)\n",
    "        high_res = np.expand_dims(high_res, axis=0)\n",
    "        low_res_time = down_sample_img(high_res_time,4,4)\n",
    "        low_res = np.abs(fftshift(fft(low_res_time, axis=0), axes=0))\n",
    "        low_res = normalize_img(low_res,Normalization.Range_0_1)\n",
    "        low_res = np.expand_dims(low_res, axis=0)\n",
    "        return low_res, high_res\n",
    "\n"
   ]
  },
  {
   "cell_type": "code",
   "execution_count": 34,
   "metadata": {},
   "outputs": [],
   "source": [
    "numberOfInstanceWindows = 3\n",
    "lengthOfSubWindow = 32\n",
    "\n",
    "gestures = [\n",
    "        \"PinchIndex\",\n",
    "        \"PinchPinky\",\n",
    "        # \"FingerSlider\",\n",
    "        # \"FingerRub\",\n",
    "        # \"SlowSwipeRL\",\n",
    "        # \"FastSwipeRL\",\n",
    "        # \"Push\",\n",
    "        # \"Pull\",\n",
    "        # \"PalmTilt\",\n",
    "        # \"Circle\",\n",
    "        # \"PalmHold\",\n",
    "        # \"NoHand\",\n",
    "    ]\n",
    "data_dir = \"/Users/netanelblumenfeld/Desktop/data/11G/data_feat/\"\n",
    "data_dir1 = \"/Users/netanelblumenfeld/Desktop/data/11G/data_npy/\"\n",
    "output_dir = \"/Users/netanelblumenfeld/Desktop/bgu/Msc/project/outputs\"\n",
    "\n",
    "people = 4"
   ]
  },
  {
   "cell_type": "code",
   "execution_count": 28,
   "metadata": {},
   "outputs": [
    {
     "data": {
      "text/plain": [
       "(1050, 32, 492)"
      ]
     },
     "execution_count": 28,
     "metadata": {},
     "output_type": "execute_result"
    }
   ],
   "source": [
    "from data_loader.tiny_radar_loader import tiny_radar_for_classifier, tiny_tt\n",
    "from training_scripts.training_sr import train_drln\n",
    "\n",
    "\n",
    "\n",
    "# data_dir = \"/Users/netanelblumenfeld/Desktop/data/11G/\"\n",
    "# high,low,name = tiny_tt(data_dir, 3, gestures,8,Normalization.Range_0_1)\n",
    "\n",
    "data_dir = \"/Users/netanelblumenfeld/Desktop/data/11G/\"\n",
    "paths = data_paths(data_dir, people, gestures,\"npy\")\n",
    "data = feat_sr_reshape(npy_feat_reshape(load_data(paths[0])))\n",
    "data.shape\n"
   ]
  },
  {
   "cell_type": "code",
   "execution_count": 35,
   "metadata": {},
   "outputs": [
    {
     "name": "stdout",
     "output_type": "stream",
     "text": [
      "loading data with 8 cpu cores\n",
      "concatenating data\n"
     ]
    },
    {
     "data": {
      "text/plain": [
       "(6300, 32, 492)"
      ]
     },
     "execution_count": 35,
     "metadata": {},
     "output_type": "execute_result"
    }
   ],
   "source": [
    "data_dir = \"/Users/netanelblumenfeld/Desktop/data/11G/\"\n",
    "\n",
    "data = load_tiny_data(data_dir, people, gestures,\"npy\")\n",
    "data.shape\n"
   ]
  },
  {
   "cell_type": "code",
   "execution_count": 36,
   "metadata": {},
   "outputs": [],
   "source": [
    "dataset = ReconstractDataset(data)\n",
    "trainloader = DataLoader(dataset, batch_size=8, shuffle=True)\n"
   ]
  },
  {
   "cell_type": "code",
   "execution_count": 37,
   "metadata": {},
   "outputs": [
    {
     "name": "stdout",
     "output_type": "stream",
     "text": [
      "torch.Size([8, 1, 8, 123])\n",
      "torch.Size([8, 1, 32, 492])\n"
     ]
    }
   ],
   "source": [
    "for x,y in trainloader:\n",
    "    print(x.shape)\n",
    "    print(y.shape)\n",
    "    break"
   ]
  },
  {
   "cell_type": "code",
   "execution_count": 38,
   "metadata": {},
   "outputs": [
    {
     "data": {
      "text/plain": [
       "<matplotlib.image.AxesImage at 0x2e4d88040>"
      ]
     },
     "execution_count": 38,
     "metadata": {},
     "output_type": "execute_result"
    },
    {
     "data": {
      "image/png": "[encoded data removed]",
      "text/plain": [
       "<Figure size 3000x3000 with 1 Axes>"
      ]
     },
     "metadata": {},
     "output_type": "display_data"
    }
   ],
   "source": [
    "plt.figure(figsize=(30,30))\n",
    "plt.imshow(x[0,0])\n"
   ]
  },
  {
   "cell_type": "code",
   "execution_count": 39,
   "metadata": {},
   "outputs": [
    {
     "data": {
      "text/plain": [
       "<matplotlib.image.AxesImage at 0x2e4decf40>"
      ]
     },
     "execution_count": 39,
     "metadata": {},
     "output_type": "execute_result"
    },
    {
     "data": {
      "image/png": "[encoded data removed]",
      "text/plain": [
       "<Figure size 3000x3000 with 1 Axes>"
      ]
     },
     "metadata": {},
     "output_type": "display_data"
    }
   ],
   "source": [
    "plt.figure(figsize=(30,30))\n",
    "plt.imshow(y[0,0])\n"
   ]
  },
  {
   "cell_type": "code",
   "execution_count": 12,
   "metadata": {},
   "outputs": [],
   "source": [
    "m = Drln(2)\n",
    "path=\"/Users/netanelblumenfeld/Desktop/bgu/Msc/project/outputs/models/sr/Drln_2/11G_normalization.range_0_1/lr_0.0005_batch_size_128_loss_L1/2023-12-27_13:39:19min_loss_model.pt\"\n",
    "m.load_state_dict(torch.load(path,map_location=torch.device('cpu')))"
   ]
  },
  {
   "cell_type": "code",
   "execution_count": 25,
   "metadata": {},
   "outputs": [
    {
     "data": {
      "text/plain": [
       "torch.Size([8, 1, 8, 123])"
      ]
     },
     "execution_count": 25,
     "metadata": {},
     "output_type": "execute_result"
    }
   ],
   "source": [
    "x.shape"
   ]
  },
  {
   "cell_type": "code",
   "execution_count": 22,
   "metadata": {},
   "outputs": [
    {
     "data": {
      "text/plain": [
       "torch.Size([8, 1, 32, 492])"
      ]
     },
     "execution_count": 22,
     "metadata": {},
     "output_type": "execute_result"
    }
   ],
   "source": [
    "\n",
    "\n",
    "res = m(x)\n",
    "res.shape"
   ]
  },
  {
   "cell_type": "code",
   "execution_count": 42,
   "metadata": {},
   "outputs": [
    {
     "data": {
      "text/plain": [
       "<matplotlib.image.AxesImage at 0x2a4116970>"
      ]
     },
     "execution_count": 42,
     "metadata": {},
     "output_type": "execute_result"
    },
    {
     "data": {
      "image/png": "[encoded data removed]",
      "text/plain": [
       "<Figure size 3000x3000 with 1 Axes>"
      ]
     },
     "metadata": {},
     "output_type": "display_data"
    }
   ],
   "source": [
    "plt.figure(figsize=(30,30))\n",
    "plt.imshow(res[3,0].detach().numpy())"
   ]
  },
  {
   "cell_type": "code",
   "execution_count": null,
   "metadata": {},
   "outputs": [],
   "source": []
  }
 ],
 "metadata": {
  "kernelspec": {
   "display_name": "radar",
   "language": "python",
   "name": "python3"
  },
  "language_info": {
   "codemirror_mode": {
    "name": "ipython",
    "version": 3
   },
   "file_extension": ".py",
   "mimetype": "text/x-python",
   "name": "python",
   "nbconvert_exporter": "python",
   "pygments_lexer": "ipython3",
   "version": "3.9.18"
  }
 },
 "nbformat": 4,
 "nbformat_minor": 2
}
