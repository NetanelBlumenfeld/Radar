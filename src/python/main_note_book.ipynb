{
 "cells": [
  {
   "cell_type": "code",
   "execution_count": 1,
   "metadata": {},
   "outputs": [],
   "source": [
    "import torch as torch\n",
    "from data_loader.drnl_loader import get_drnl_data_loader\n",
    "from data_loader.sr_tiny_radar_loader import get_sr_tiny_radar_data_loader\n",
    "from network.experiment_tracker import (\n",
    "    BaseTensorBoardTracker,\n",
    "    CallbackHandler,\n",
    "    ProgressBar,\n",
    "    SaveModel,\n",
    ")\n",
    "from network.metric.accuracy import acc_srcnn_tiny_radar\n",
    "from network.metric.loss import LossFunctionSRCnnTinyRadarNN, LossFunctionTinyRadarNN\n",
    "from network.metric.metric_tracker import AccuracyMetric, LossMetricSRCnnTinyRadarNN\n",
    "from network.models.classifiers.tiny_radar import TinyRadarNN\n",
    "from network.models.sr_classifier.SRCnnTinyRadar import CombinedSRCNNClassifier\n",
    "from network.models.super_resolution.drln import DRLN\n",
    "from network.models.super_resolution.srcnn import SRCnn\n",
    "from network.runner import Runner\n",
    "from utils.utils_paths import get_time_in_string\n",
    "\n"
   ]
  },
  {
   "cell_type": "markdown",
   "metadata": {},
   "source": [
    "SRCNN - TinyRadarNN results - "
   ]
  },
  {
   "cell_type": "code",
   "execution_count": null,
   "metadata": {},
   "outputs": [],
   "source": [
    "# paths\n",
    "row = 4\n",
    "col = 4\n",
    "hight_res_folder = \"data_feat/\"\n",
    "low_res_folder = f\"_row_{row}_col_{col}_d_none_u_cubic/\"\n",
    "hight_res__path = data_dir + hight_res_folder\n",
    "low_res_path = data_dir + low_res_folder\n",
    "\n",
    "training_generator, val_generator = get_drnl_data_loader(\n",
    "    # low_res_path,\n",
    "    hight_res__path,\n",
    "    people,\n",
    "    gestures,\n",
    "    batch_size,\n",
    "    scale=True,\n",
    ")"
   ]
  }
 ],
 "metadata": {
  "kernelspec": {
   "display_name": "radar",
   "language": "python",
   "name": "python3"
  },
  "language_info": {
   "codemirror_mode": {
    "name": "ipython",
    "version": 3
   },
   "file_extension": ".py",
   "mimetype": "text/x-python",
   "name": "python",
   "nbconvert_exporter": "python",
   "pygments_lexer": "ipython3",
   "version": "3.9.18"
  }
 },
 "nbformat": 4,
 "nbformat_minor": 2
}
