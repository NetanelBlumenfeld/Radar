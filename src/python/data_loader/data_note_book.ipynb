{
 "cells": [
  {
   "cell_type": "code",
   "execution_count": 1,
   "metadata": {},
   "outputs": [],
   "source": [
    "from sr_tiny_radar_loader import get_sr_tiny_radar_data_loader\n",
    "import numpy as np\n",
    "import matplotlib.pyplot as plt\n",
    "import torch\n",
    "# Dataset parameters\n",
    "import os\n",
    "import sys\n",
    "import cv2\n",
    "import numpy as np\n",
    "import math\n",
    "import matplotlib.pyplot as plt\n",
    "import seaborn as sns\n",
    "sys.path.insert(0, os.path.abspath(os.path.join(os.path.dirname(__vsc_ipynb_file__), '../')))\n"
   ]
  },
  {
   "cell_type": "code",
   "execution_count": 2,
   "metadata": {},
   "outputs": [
    {
     "name": "stdout",
     "output_type": "stream",
     "text": [
      "Doing 1\n",
      "Doing 2\n",
      "Doing 3\n",
      "Doing 4\n",
      "Doing 5\n",
      "Doing 6\n",
      "Doing 7\n",
      "Doing 8\n",
      "Doing 9\n",
      "Doing 10\n",
      "Doing 11\n",
      "Doing 12\n",
      "Doing 13\n"
     ]
    }
   ],
   "source": [
    "from drnl_loader import get_drnl_data_loader\n",
    "\n",
    "\n",
    "gestures = [\n",
    "    \"PinchIndex\",\n",
    "    \"PinchPinky\",\n",
    "    # \"FingerSlider\",\n",
    "    # \"FingerRub\",\n",
    "    # \"SlowSwipeRL\",\n",
    "    # \"FastSwipeRL\",\n",
    "    # \"Push\",\n",
    "    # \"Pull\",\n",
    "    # \"PalmTilt\",\n",
    "    # \"Circle\",\n",
    "    # \"PalmHold\",\n",
    "    # \"NoHand\",\n",
    "]\n",
    "persons = 14\n",
    "people = list(range(1, persons, 1))\n",
    "\n",
    "# Dataset parameters\n",
    "numberOfTimeSteps = 5\n",
    "numberOfSensors = 2\n",
    "numberOfRangePointsPerSensor = 492\n",
    "numberOfInstanceWindows = 3\n",
    "lengthOfSubWindow = 32\n",
    "numberOfGestures = 12\n",
    "batch_size = 128\n",
    "epochs = 150\n",
    "data_dir =\"/Users/netanelblumenfeld/Desktop/data/11G/\"\n",
    "\n",
    "# paths\n",
    "row = 8\n",
    "col = 64\n",
    "hight_res_folder = \"data_feat/\"\n",
    "low_res_folder = f\"data_feat_ds_row_{row}_col_{col}_d_none_u_cubic/\"\n",
    "hight_res__path = data_dir + hight_res_folder\n",
    "low_res_path = data_dir + low_res_folder\n",
    "\n",
    "training_generator, val_generator = get_drnl_data_loader(\n",
    "    hight_res__path,\n",
    "    people,\n",
    "    gestures,\n",
    "    batch_size,\n",
    "    scale=True,\n",
    ")"
   ]
  },
  {
   "cell_type": "code",
   "execution_count": 3,
   "metadata": {},
   "outputs": [
    {
     "name": "stdout",
     "output_type": "stream",
     "text": [
      "torch.Size([128, 5, 2, 8, 123])\n"
     ]
    }
   ],
   "source": [
    "for a , b in training_generator:\n",
    "    print(a.shape)\n",
    "    break"
   ]
  },
  {
   "cell_type": "code",
   "execution_count": 4,
   "metadata": {},
   "outputs": [
    {
     "data": {
      "text/plain": [
       "torch.Size([128, 5, 2, 8, 123])"
      ]
     },
     "execution_count": 4,
     "metadata": {},
     "output_type": "execute_result"
    }
   ],
   "source": [
    "a.shape"
   ]
  },
  {
   "cell_type": "code",
   "execution_count": 10,
   "metadata": {},
   "outputs": [],
   "source": [
    "from network.models.super_resolution.drln import DRLN\n",
    "drln = DRLN(4)\n",
    "aa = a[0].reshape(10,1,8,123)\n",
    "r = drln(aa.to(torch.float32))"
   ]
  },
  {
   "cell_type": "code",
   "execution_count": 11,
   "metadata": {},
   "outputs": [
    {
     "data": {
      "text/plain": [
       "torch.Size([10, 1, 32, 492])"
      ]
     },
     "execution_count": 11,
     "metadata": {},
     "output_type": "execute_result"
    }
   ],
   "source": [
    "r.shape"
   ]
  },
  {
   "cell_type": "code",
   "execution_count": null,
   "metadata": {},
   "outputs": [],
   "source": []
  }
 ],
 "metadata": {
  "kernelspec": {
   "display_name": "radar",
   "language": "python",
   "name": "python3"
  },
  "language_info": {
   "codemirror_mode": {
    "name": "ipython",
    "version": 3
   },
   "file_extension": ".py",
   "mimetype": "text/x-python",
   "name": "python",
   "nbconvert_exporter": "python",
   "pygments_lexer": "ipython3",
   "version": "3.9.18"
  }
 },
 "nbformat": 4,
 "nbformat_minor": 2
}
