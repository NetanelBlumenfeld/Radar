{
 "cells": [
  {
   "cell_type": "code",
   "execution_count": 1,
   "metadata": {},
   "outputs": [],
   "source": [
    "from sr_tiny_radar_loader import get_sr_tiny_radar_data_loader\n",
    "import numpy as np\n",
    "import matplotlib.pyplot as plt\n",
    "import torch\n"
   ]
  },
  {
   "cell_type": "code",
   "execution_count": 2,
   "metadata": {},
   "outputs": [
    {
     "name": "stdout",
     "output_type": "stream",
     "text": [
      "Doing 1\n",
      "Doing 2\n",
      "Doing 3\n",
      "Doing 4\n",
      "Doing 5\n",
      "Doing 6\n",
      "Doing 7\n",
      "Doing 8\n",
      "Doing 9\n",
      "Doing 10\n",
      "Doing 11\n",
      "Doing 12\n",
      "Doing 13\n"
     ]
    }
   ],
   "source": [
    "gestures = [\n",
    "    \"PinchIndex\",\n",
    "    \"PinchPinky\",\n",
    "    # \"FingerSlider\",\n",
    "    # \"FingerRub\",\n",
    "    # \"SlowSwipeRL\",\n",
    "    # \"FastSwipeRL\",\n",
    "    # \"Push\",\n",
    "    # \"Pull\",\n",
    "    # \"PalmTilt\",\n",
    "    # \"Circle\",\n",
    "    # \"PalmHold\",\n",
    "    # \"NoHand\",\n",
    "]\n",
    "persons = 14\n",
    "people = list(range(1, persons, 1))\n",
    "\n",
    "# Dataset parameters\n",
    "numberOfTimeSteps = 5\n",
    "numberOfSensors = 2\n",
    "numberOfRangePointsPerSensor = 492\n",
    "numberOfInstanceWindows = 3\n",
    "lengthOfSubWindow = 32\n",
    "numberOfGestures = 12\n",
    "batch_size = 128\n",
    "epochs = 150\n",
    "data_dir =\"/Users/netanelblumenfeld/Desktop/data/11G/\"\n",
    "\n",
    "# paths\n",
    "row = 8\n",
    "col = 64\n",
    "hight_res_folder = \"data_feat/\"\n",
    "low_res_folder = f\"data_feat_ds_row_{row}_col_{col}_d_none_u_cubic/\"\n",
    "hight_res__path = data_dir + hight_res_folder\n",
    "low_res_path = data_dir + low_res_folder\n",
    "\n",
    "training_generator, val_generator = get_sr_tiny_radar_data_loader(\n",
    "    low_res_path,\n",
    "    hight_res__path,\n",
    "    people,\n",
    "    gestures,\n",
    "    batch_size,\n",
    "    scale=True,\n",
    ")"
   ]
  },
  {
   "cell_type": "code",
   "execution_count": 3,
   "metadata": {},
   "outputs": [
    {
     "name": "stdout",
     "output_type": "stream",
     "text": [
      "torch.Size([128, 5, 2, 32, 492])\n",
      "torch.Size([128, 5, 2, 32, 492])\n",
      "torch.Size([128, 5])\n"
     ]
    }
   ],
   "source": [
    "for a , b in training_generator:\n",
    "    print(a.shape)\n",
    "    print(b[0].shape)\n",
    "    print(b[1].shape)\n",
    "    break"
   ]
  },
  {
   "cell_type": "code",
   "execution_count": 5,
   "metadata": {},
   "outputs": [
    {
     "data": {
      "text/plain": [
       "<All keys matched successfully>"
      ]
     },
     "execution_count": 5,
     "metadata": {},
     "output_type": "execute_result"
    }
   ],
   "source": [
    "# Dataset parameters\n",
    "import os\n",
    "import sys\n",
    "import cv2\n",
    "import numpy as np\n",
    "import math\n",
    "import matplotlib.pyplot as plt\n",
    "import seaborn as sns\n",
    "sys.path.insert(0, os.path.abspath(os.path.join(os.path.dirname(__vsc_ipynb_file__), '../')))\n",
    "\n",
    "from dataclasses import dataclass\n",
    "\n",
    "from network.models.super_resolution.srcnn import SRCnn\n",
    "from network.models.sr_classifier.SRCnnTinyRadar import CombinedSRCNNClassifier\n",
    "\n",
    "# Add the parent dire\n",
    "# ctory of medflowlabs to the Python path\n",
    "\n",
    "from network.models.classifiers.tiny_radar import TinyRadarNN\n",
    "\n",
    "\n",
    "numberOfTimeSteps = 5\n",
    "numberOfSensors = 2\n",
    "numberOfRangePointsPerSensor = 492\n",
    "lengthOfSubWindow = 32\n",
    "numberOfGestures = 12\n",
    "tiny_radar = TinyRadarNN(\n",
    "    numberOfSensors,\n",
    "    numberOfRangePointsPerSensor,\n",
    "    lengthOfSubWindow,\n",
    "    numberOfTimeSteps,\n",
    "    numberOfGestures,\n",
    ")\n",
    "\n",
    "srcnn = SRCnn(\n",
    "    num_features_1=64,\n",
    "    num_features_2=64,\n",
    "    kernel_size=(3,3),\n",
    "    activation='relu',\n",
    ")\n",
    "model = CombinedSRCNNClassifier(srcnn, tiny_radar)\n",
    "tiny_radar_wights_path = '/Users/netanelblumenfeld/Desktop/bgu/Msc/project/outputs/models/sr_classifier/row_8_col_64_d_none_u_cubic/w_tiny1_w_srcnn_0_norm_full_train/n_feat1_64_n_feat2_64_ksize_(3, 3)_activation_relu/time_2023-12-18_17:44:52/max_acc_model.pt'\n",
    "\n",
    "model.load_state_dict(torch.load(tiny_radar_wights_path,map_location=torch.device('cpu') ))\n"
   ]
  },
  {
   "cell_type": "code",
   "execution_count": 6,
   "metadata": {},
   "outputs": [],
   "source": [
    "model.eval()\n",
    "higt_imgs, labels = model(a)"
   ]
  },
  {
   "cell_type": "code",
   "execution_count": 7,
   "metadata": {},
   "outputs": [
    {
     "name": "stdout",
     "output_type": "stream",
     "text": [
      "torch.Size([128, 5, 2, 32, 492])\n"
     ]
    }
   ],
   "source": [
    "print(higt_imgs.shape)"
   ]
  },
  {
   "cell_type": "code",
   "execution_count": 8,
   "metadata": {},
   "outputs": [
    {
     "data": {
      "text/plain": [
       "<matplotlib.image.AxesImage at 0x36c9bb910>"
      ]
     },
     "execution_count": 8,
     "metadata": {},
     "output_type": "execute_result"
    },
    {
     "data": {
      "image/png": "[encoded data removed]",
      "text/plain": [
       "<Figure size 2000x1000 with 1 Axes>"
      ]
     },
     "metadata": {},
     "output_type": "display_data"
    }
   ],
   "source": [
    "plt.figure(figsize=(20,10))\n",
    "\n",
    "plt.imshow(a[0,0,0])"
   ]
  },
  {
   "cell_type": "code",
   "execution_count": 9,
   "metadata": {},
   "outputs": [
    {
     "data": {
      "text/plain": [
       "<matplotlib.image.AxesImage at 0x4836ab580>"
      ]
     },
     "execution_count": 9,
     "metadata": {},
     "output_type": "execute_result"
    },
    {
     "data": {
      "image/png": "[encoded data removed]",
      "text/plain": [
       "<Figure size 2000x1000 with 1 Axes>"
      ]
     },
     "metadata": {},
     "output_type": "display_data"
    }
   ],
   "source": [
    "res_img = higt_imgs[0,0,0].detach().numpy()\n",
    "plt.figure(figsize=(20,10))\n",
    "\n",
    "plt.imshow(res_img)"
   ]
  },
  {
   "cell_type": "code",
   "execution_count": 10,
   "metadata": {},
   "outputs": [
    {
     "data": {
      "text/plain": [
       "<matplotlib.image.AxesImage at 0x36c2bffa0>"
      ]
     },
     "execution_count": 10,
     "metadata": {},
     "output_type": "execute_result"
    },
    {
     "data": {
      "image/png": "[encoded data removed]",
      "text/plain": [
       "<Figure size 2000x1000 with 1 Axes>"
      ]
     },
     "metadata": {},
     "output_type": "display_data"
    }
   ],
   "source": [
    "plt.figure(figsize=(20,10))\n",
    "\n",
    "plt.imshow(b[0][0,0,0,:,:])"
   ]
  },
  {
   "cell_type": "code",
   "execution_count": 11,
   "metadata": {},
   "outputs": [
    {
     "data": {
      "text/plain": [
       "0.9999674"
      ]
     },
     "execution_count": 11,
     "metadata": {},
     "output_type": "execute_result"
    }
   ],
   "source": [
    "a[0,0,0].numpy().max()"
   ]
  },
  {
   "cell_type": "code",
   "execution_count": 12,
   "metadata": {},
   "outputs": [
    {
     "data": {
      "text/plain": [
       "-0.37187704"
      ]
     },
     "execution_count": 12,
     "metadata": {},
     "output_type": "execute_result"
    }
   ],
   "source": [
    "res_img.min()"
   ]
  },
  {
   "cell_type": "code",
   "execution_count": 35,
   "metadata": {},
   "outputs": [],
   "source": [
    "import torch.nn as nn\n",
    "import torch\n",
    "\n",
    "aa = res_img.reshape(1,1,32,492)\n",
    "bb = nn.BatchNorm2d(1)\n",
    "c = bb(torch.Tensor(aa))"
   ]
  },
  {
   "cell_type": "code",
   "execution_count": 37,
   "metadata": {},
   "outputs": [
    {
     "data": {
      "text/plain": [
       "tensor(7.7518, grad_fn=<MaxBackward1>)"
      ]
     },
     "execution_count": 37,
     "metadata": {},
     "output_type": "execute_result"
    }
   ],
   "source": [
    "c.max()"
   ]
  },
  {
   "cell_type": "code",
   "execution_count": 31,
   "metadata": {},
   "outputs": [
    {
     "data": {
      "text/plain": [
       "(32, 492)"
      ]
     },
     "execution_count": 31,
     "metadata": {},
     "output_type": "execute_result"
    }
   ],
   "source": [
    "aa.shape"
   ]
  },
  {
   "cell_type": "code",
   "execution_count": 28,
   "metadata": {},
   "outputs": [],
   "source": [
    "x_orig = a[0,0,0,:,:].numpy()\n",
    "x_low = b[0][0,0,0,:,:].numpy()"
   ]
  },
  {
   "cell_type": "code",
   "execution_count": 29,
   "metadata": {},
   "outputs": [
    {
     "data": {
      "text/plain": [
       "torch.Size([5, 128, 2, 32, 492])"
      ]
     },
     "execution_count": 29,
     "metadata": {},
     "output_type": "execute_result"
    }
   ],
   "source": [
    "b = b[0].permute(1, 0, 2, 3, 4)\n",
    "a = a.permute(1, 0, 2, 3, 4)\n",
    "b.shape\n"
   ]
  },
  {
   "cell_type": "code",
   "execution_count": 30,
   "metadata": {},
   "outputs": [
    {
     "data": {
      "text/plain": [
       "torch.Size([128, 2, 32, 492])"
      ]
     },
     "execution_count": 30,
     "metadata": {},
     "output_type": "execute_result"
    }
   ],
   "source": [
    "b1 = b[0].reshape(128*2,1,32,492)\n",
    "b2 = b1.reshape(128,2,32,492)\n",
    "b2.shape"
   ]
  },
  {
   "cell_type": "code",
   "execution_count": 34,
   "metadata": {},
   "outputs": [
    {
     "data": {
      "text/plain": [
       "<matplotlib.image.AxesImage at 0x1695d0fd0>"
      ]
     },
     "execution_count": 34,
     "metadata": {},
     "output_type": "execute_result"
    },
    {
     "data": {
      "image/png": "[encoded data removed]",
      "text/plain": [
       "<Figure size 2000x1000 with 1 Axes>"
      ]
     },
     "metadata": {},
     "output_type": "display_data"
    }
   ],
   "source": [
    "res = b2[0,0,:,:].numpy()\n",
    "plt.figure(figsize=(20,10))\n",
    "plt.imshow(res)"
   ]
  },
  {
   "cell_type": "code",
   "execution_count": 36,
   "metadata": {},
   "outputs": [
    {
     "data": {
      "text/plain": [
       "<matplotlib.image.AxesImage at 0x1698214c0>"
      ]
     },
     "execution_count": 36,
     "metadata": {},
     "output_type": "execute_result"
    },
    {
     "data": {
      "image/png": "[encoded data removed]",
      "text/plain": [
       "<Figure size 2000x1000 with 1 Axes>"
      ]
     },
     "metadata": {},
     "output_type": "display_data"
    }
   ],
   "source": [
    "plt.figure(figsize=(20,10))\n",
    "\n",
    "plt.imshow(x_low)"
   ]
  },
  {
   "cell_type": "code",
   "execution_count": 35,
   "metadata": {},
   "outputs": [
    {
     "data": {
      "text/plain": [
       "<matplotlib.image.AxesImage at 0x169756ac0>"
      ]
     },
     "execution_count": 35,
     "metadata": {},
     "output_type": "execute_result"
    },
    {
     "data": {
      "image/png": "[encoded data removed]",
      "text/plain": [
       "<Figure size 2000x1000 with 1 Axes>"
      ]
     },
     "metadata": {},
     "output_type": "display_data"
    }
   ],
   "source": [
    "plt.figure(figsize=(20,10))\n",
    "\n",
    "plt.imshow(x_orig)"
   ]
  },
  {
   "cell_type": "code",
   "execution_count": null,
   "metadata": {},
   "outputs": [],
   "source": []
  }
 ],
 "metadata": {
  "kernelspec": {
   "display_name": "radar",
   "language": "python",
   "name": "python3"
  },
  "language_info": {
   "codemirror_mode": {
    "name": "ipython",
    "version": 3
   },
   "file_extension": ".py",
   "mimetype": "text/x-python",
   "name": "python",
   "nbconvert_exporter": "python",
   "pygments_lexer": "ipython3",
   "version": "3.9.18"
  }
 },
 "nbformat": 4,
 "nbformat_minor": 2
}
